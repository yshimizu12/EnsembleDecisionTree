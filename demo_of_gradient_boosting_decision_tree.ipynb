{
 "cells": [
  {
   "cell_type": "markdown",
   "metadata": {},
   "source": [
    "# 勾配ブースティング決定木のデモプログラム"
   ]
  },
  {
   "cell_type": "markdown",
   "metadata": {},
   "source": [
    "勾配ブースティング決定木のデモプログラムです。  \n",
    "勾配ブースティング決定木の中身に関してはこちら↓で解説しています。  \n",
    "https://yuyumoyuyu.com/2021/02/21/ensembledecisiontree/"
   ]
  },
  {
   "cell_type": "markdown",
   "metadata": {},
   "source": [
    "ハイパーパラメータの調整にはOptunaを使用しています。  \n",
    "ローカルで本プログラムを実行する場合は，  \n",
    "事前にOptunaおよびXBoost,LightGBMのライブラリをダウンロードしておく必要があります。"
   ]
  },
  {
   "cell_type": "code",
   "execution_count": 1,
   "metadata": {},
   "outputs": [],
   "source": [
    "import pandas as pd\n",
    "import matplotlib.pyplot as plt\n",
    "from matplotlib.colors import ListedColormap\n",
    "import matplotlib.figure as figure\n",
    "import numpy as np\n",
    "\n",
    "import time\n",
    "\n",
    "from sklearn import model_selection, metrics\n",
    "from sklearn.model_selection import GridSearchCV\n",
    "from sklearn.model_selection import train_test_split\n",
    "from sklearn.preprocessing import StandardScaler\n",
    "\n",
    "%matplotlib inline"
   ]
  },
  {
   "cell_type": "code",
   "execution_count": 2,
   "metadata": {},
   "outputs": [],
   "source": [
    "from sklearn.ensemble import GradientBoostingClassifier as GBC\n",
    "from sklearn.ensemble import GradientBoostingRegressor as GBR\n",
    "\n",
    "from xgboost import XGBClassifier as XGBC\n",
    "from xgboost import XGBRegressor as XGBR\n",
    "\n",
    "from lightgbm import LGBMClassifier as LGBC\n",
    "from lightgbm import LGBMRegressor as LGBR\n",
    "\n",
    "import optuna"
   ]
  },
  {
   "cell_type": "markdown",
   "metadata": {},
   "source": [
    "# クラス分類"
   ]
  },
  {
   "cell_type": "code",
   "execution_count": 3,
   "metadata": {},
   "outputs": [],
   "source": [
    "from sklearn.datasets import load_iris"
   ]
  },
  {
   "cell_type": "code",
   "execution_count": 4,
   "metadata": {},
   "outputs": [],
   "source": [
    "# Irisデータセットを用いる\n",
    "iris = load_iris()\n",
    "\n",
    "# 初期設定\n",
    "fold_number = 3  # \"k-分割交差検証の分割数\n",
    "fraction_of_validation_samples = 0.2 # 検証に使うデータ割合\n",
    "\n",
    "# 学習データをtrain/test分割\n",
    "X_train_i, X_test_i, y_train_i, y_test_i = train_test_split(iris.data,\n",
    "                                                            iris.target,\n",
    "                                                            random_state=0)\n",
    "\n",
    "# スケーリング\n",
    "scaler_c = StandardScaler()\n",
    "X_train_i_scaled = scaler_c.fit_transform(X_train_i)\n",
    "X_test_i_scaled = scaler_c.transform(X_test_i)\n",
    "\n",
    "# 検証用\n",
    "X_train_i_tmp, X_valid_i, y_train_i_tmp, y_valid_i = train_test_split(X_train_i_scaled,\n",
    "                                                                      y_train_i,\n",
    "                                                                      test_size=fraction_of_validation_samples,\n",
    "                                                                      random_state=0)"
   ]
  },
  {
   "cell_type": "code",
   "execution_count": null,
   "metadata": {},
   "outputs": [],
   "source": [
    "# scikit-learnの勾配ブースティング\n",
    "t1 = time.time()\n",
    "\n",
    "gbc = GBC(n_estimators=1000, \n",
    "          validation_fraction=fraction_of_validation_samples,\n",
    "          n_iter_no_change=100)\n",
    "gbc.fit(X_train_i_scaled, y_train_i)\n",
    "best_n_estimators_in_cv = len(gbc.estimators_)\n",
    "\n",
    "def objective(trial):\n",
    "    param = {\n",
    "        'learning_rate': trial.suggest_loguniform('learning_rate', 0.01, 1),\n",
    "        'max_depth': trial.suggest_int('max_depth', 1, 9),\n",
    "        'min_samples_leaf': trial.suggest_int('min_samples_leaf', 3, 20),\n",
    "        'max_features': trial.suggest_loguniform('max_features', 0.1, 1.0)\n",
    "    }\n",
    "\n",
    "    gbc = GBC(**param, n_estimators=best_n_estimators_in_cv)\n",
    "    estimated_y_in_cv = model_selection.cross_val_predict(gbc, X_train_i_scaled, y_train_i, cv=fold_number)\n",
    "    acc = metrics.accuracy_score(y_train_i, estimated_y_in_cv)\n",
    "    return 1.0 - acc\n",
    "\n",
    "study = optuna.create_study()\n",
    "study.optimize(objective, n_trials=100)\n",
    "\n",
    "gbc = GBC(**study.best_params, \n",
    "          n_estimators=1000,\n",
    "          validation_fraction=fraction_of_validation_samples, \n",
    "          n_iter_no_change=100)\n",
    "gbc.fit(X_train_i_scaled, y_train_i)\n",
    "best_n_estimators = len(gbc.estimators_)\n",
    "\n",
    "gbc = GBC(**study.best_params, n_estimators=best_n_estimators)\n",
    "gbc.fit(X_train_i_scaled, y_train_i)\n",
    "\n",
    "t2 = time.time()"
   ]
  },
  {
   "cell_type": "code",
   "execution_count": 6,
   "metadata": {},
   "outputs": [
    {
     "name": "stdout",
     "output_type": "stream",
     "text": [
      "elapsed time: 41.114 sec\n",
      "\n",
      "training samples\n",
      "[0, 1, 2]\n",
      "[[37  0  0]\n",
      " [ 0 34  0]\n",
      " [ 0  0 41]]\n",
      "\n",
      "test samples\n",
      "[0, 1, 2]\n",
      "[[13  0  0]\n",
      " [ 0 15  1]\n",
      " [ 0  0  9]]\n"
     ]
    }
   ],
   "source": [
    "# scikit-learnの勾配ブースティングの結果\n",
    "print(\"elapsed time: {:.3f} sec\\n\".format(t2-t1))\n",
    "\n",
    "# trainデータ\n",
    "y_train_i_est = gbc.predict(X_train_i_scaled)\n",
    "\n",
    "confusion_matrix_train = metrics.confusion_matrix(y_train_i, y_train_i_est, labels=sorted(set(y_train_i)))\n",
    "print('training samples')\n",
    "print(sorted(set(y_train_i)))\n",
    "print(confusion_matrix_train)\n",
    "\n",
    "# testデータ\n",
    "y_test_i_pred = gbc.predict(X_test_i_scaled)\n",
    "\n",
    "confusion_matrix_test = metrics.confusion_matrix(y_test_i, y_test_i_pred, labels=sorted(set(y_train_i)))\n",
    "print('')\n",
    "print('test samples')\n",
    "print(sorted(set(y_train_i)))\n",
    "print(confusion_matrix_test)"
   ]
  },
  {
   "cell_type": "code",
   "execution_count": null,
   "metadata": {},
   "outputs": [],
   "source": [
    "# XGBoost\n",
    "t1 = time.time()\n",
    "\n",
    "xgbc = XGBC(n_estimators=1000)\n",
    "xgbc.fit(X_train_i_tmp, \n",
    "         y_train_i_tmp,\n",
    "         eval_set=[(X_valid_i, y_valid_i)],\n",
    "         eval_metric='mlogloss', \n",
    "         early_stopping_rounds=100)\n",
    "best_n_estimators_in_cv = xgbc.best_iteration\n",
    "\n",
    "def objective(trial):\n",
    "    param = {\n",
    "        'verbosity': 0,\n",
    "        'objective': 'reg:squarederror',\n",
    "        'booster': trial.suggest_categorical('booster', ['gbtree', 'gblinear', 'dart']),\n",
    "        'lambda': trial.suggest_loguniform('lambda', 1e-8, 1.0),\n",
    "        'alpha': trial.suggest_loguniform('alpha', 1e-8, 1.0)\n",
    "    }\n",
    "\n",
    "    if param['booster'] == 'gbtree' or param['booster'] == 'dart':\n",
    "        param['max_depth'] = trial.suggest_int('max_depth', 1, 9)\n",
    "        param['eta'] = trial.suggest_loguniform('eta', 1e-8, 1.0)\n",
    "        param['gamma'] = trial.suggest_loguniform('gamma', 1e-8, 1.0)\n",
    "        param['grow_policy'] = trial.suggest_categorical('grow_policy', ['depthwise', 'lossguide'])\n",
    "    if param['booster'] == 'dart':\n",
    "        param['sample_type'] = trial.suggest_categorical('sample_type', ['uniform', 'weighted'])\n",
    "        param['normalize_type'] = trial.suggest_categorical('normalize_type', ['tree', 'forest'])\n",
    "        param['rate_drop'] = trial.suggest_loguniform('rate_drop', 1e-8, 1.0)\n",
    "        param['skip_drop'] = trial.suggest_loguniform('skip_drop', 1e-8, 1.0)\n",
    "\n",
    "    xgbc = XGBC(**param, n_estimators=best_n_estimators_in_cv)\n",
    "    estimated_y_in_cv = model_selection.cross_val_predict(xgbc, X_train_i_scaled, y_train_i, cv=fold_number)\n",
    "    acc = metrics.accuracy_score(y_train_i, estimated_y_in_cv)\n",
    "    return 1.0 - acc\n",
    "\n",
    "study = optuna.create_study()\n",
    "study.optimize(objective, n_trials=100)\n",
    "\n",
    "xgbc = XGBC(**study.best_params, n_estimators=1000)\n",
    "xgbc.fit(X_train_i_tmp, \n",
    "         y_train_i_tmp,\n",
    "         eval_set=[(X_valid_i, y_valid_i.reshape([len(y_valid_i), 1]))],\n",
    "         eval_metric='mlogloss', \n",
    "         early_stopping_rounds=100)\n",
    "best_n_estimators = xgbc.best_iteration\n",
    "\n",
    "xgbc = XGBC(**study.best_params, n_estimators=best_n_estimators)\n",
    "xgbc.fit(X_train_i_scaled, y_train_i)\n",
    "\n",
    "t2 = time.time()"
   ]
  },
  {
   "cell_type": "code",
   "execution_count": 8,
   "metadata": {},
   "outputs": [
    {
     "name": "stdout",
     "output_type": "stream",
     "text": [
      "elapsed time: 17.832 sec\n",
      "\n",
      "training samples\n",
      "[0, 1, 2]\n",
      "[[37  0  0]\n",
      " [ 0 34  0]\n",
      " [ 0  0 41]]\n",
      "\n",
      "test samples\n",
      "[0, 1, 2]\n",
      "[[13  0  0]\n",
      " [ 0 15  1]\n",
      " [ 0  0  9]]\n"
     ]
    }
   ],
   "source": [
    "# XGBoostの結果\n",
    "print(\"elapsed time: {:.3f} sec\\n\".format(t2-t1))\n",
    "\n",
    "# trainデータ\n",
    "y_train_i_est = gbc.predict(X_train_i_scaled)\n",
    "\n",
    "confusion_matrix_train = metrics.confusion_matrix(y_train_i, y_train_i_est, labels=sorted(set(y_train_i)))\n",
    "print('training samples')\n",
    "print(sorted(set(y_train_i)))\n",
    "print(confusion_matrix_train)\n",
    "\n",
    "# testデータ\n",
    "y_test_i_pred = gbc.predict(X_test_i_scaled)\n",
    "\n",
    "confusion_matrix_test = metrics.confusion_matrix(y_test_i, y_test_i_pred, labels=sorted(set(y_train_i)))\n",
    "print('')\n",
    "print('test samples')\n",
    "print(sorted(set(y_train_i)))\n",
    "print(confusion_matrix_test)"
   ]
  },
  {
   "cell_type": "code",
   "execution_count": null,
   "metadata": {},
   "outputs": [],
   "source": [
    "# LightGBM\n",
    "t1 = time.time()\n",
    "\n",
    "lgbc = LGBC(n_estimators=1000)\n",
    "lgbc.fit(X_train_i_tmp, \n",
    "         y_train_i_tmp,\n",
    "         eval_set=(X_valid_i, y_valid_i),\n",
    "         eval_metric='logloss', \n",
    "         early_stopping_rounds=100)\n",
    "best_n_estimators_in_cv = lgbc.best_iteration_\n",
    "\n",
    "def objective(trial):\n",
    "    param = {\n",
    "        'verbosity': -1,\n",
    "        'boosting_type': trial.suggest_categorical('boosting', ['gbdt', 'dart', 'goss']),\n",
    "        'num_leaves': trial.suggest_int('num_leaves', 10, 1000),\n",
    "        'learning_rate': trial.suggest_loguniform('learning_rate', 1e-8, 1.0)\n",
    "    }\n",
    "\n",
    "    if param['boosting_type'] == 'dart':\n",
    "        param['drop_rate'] = trial.suggest_loguniform('drop_rate', 1e-8, 1.0)\n",
    "        param['skip_drop'] = trial.suggest_loguniform('skip_drop', 1e-8, 1.0)\n",
    "    if param['boosting_type'] == 'goss':\n",
    "        param['top_rate'] = trial.suggest_uniform('top_rate', 0.0, 1.0)\n",
    "        param['other_rate'] = trial.suggest_uniform('other_rate', 0.0, 1.0 - param['top_rate'])\n",
    "\n",
    "    lgbc = LGBC(**param, n_estimators=best_n_estimators_in_cv)\n",
    "    estimated_y_in_cv = model_selection.cross_val_predict(lgbc, X_train_i_scaled, y_train_i, cv=fold_number)\n",
    "    acc = metrics.accuracy_score(y_train_i, estimated_y_in_cv)\n",
    "    return 1.0 - acc\n",
    "\n",
    "study = optuna.create_study()\n",
    "study.optimize(objective, n_trials=100)\n",
    "\n",
    "lgbc = LGBC(**study.best_params, n_estimators=1000)\n",
    "lgbc.fit(X_train_i_tmp, \n",
    "         y_train_i_tmp,\n",
    "         eval_set=(X_valid_i, y_valid_i),\n",
    "         eval_metric='logloss', \n",
    "         early_stopping_rounds=100)\n",
    "best_n_estimators_in_cv = lgbc.best_iteration_\n",
    "\n",
    "lgbc = LGBC(**study.best_params, n_estimators=best_n_estimators)\n",
    "lgbc.fit(X_train_i_scaled, y_train_i)\n",
    "\n",
    "t2 = time.time()"
   ]
  },
  {
   "cell_type": "code",
   "execution_count": 10,
   "metadata": {},
   "outputs": [
    {
     "name": "stdout",
     "output_type": "stream",
     "text": [
      "elapsed time: 15.261 sec\n",
      "\n",
      "training samples\n",
      "[0, 1, 2]\n",
      "[[37  0  0]\n",
      " [ 0 34  0]\n",
      " [ 0  0 41]]\n",
      "\n",
      "test samples\n",
      "[0, 1, 2]\n",
      "[[13  0  0]\n",
      " [ 0 15  1]\n",
      " [ 0  0  9]]\n"
     ]
    }
   ],
   "source": [
    "# LightGBMの結果\n",
    "print(\"elapsed time: {:.3f} sec\\n\".format(t2-t1))\n",
    "\n",
    "# trainデータ\n",
    "y_train_i_est = gbc.predict(X_train_i_scaled)\n",
    "\n",
    "confusion_matrix_train = metrics.confusion_matrix(y_train_i, y_train_i_est, labels=sorted(set(y_train_i)))\n",
    "print('training samples')\n",
    "print(sorted(set(y_train_i)))\n",
    "print(confusion_matrix_train)\n",
    "\n",
    "# testデータ\n",
    "y_test_i_pred = gbc.predict(X_test_i_scaled)\n",
    "\n",
    "confusion_matrix_test = metrics.confusion_matrix(y_test_i, y_test_i_pred, labels=sorted(set(y_train_i)))\n",
    "print('')\n",
    "print('test samples')\n",
    "print(sorted(set(y_train_i)))\n",
    "print(confusion_matrix_test)"
   ]
  },
  {
   "cell_type": "markdown",
   "metadata": {},
   "source": [
    "# 回帰木"
   ]
  },
  {
   "cell_type": "code",
   "execution_count": 11,
   "metadata": {},
   "outputs": [],
   "source": [
    "from sklearn.datasets import load_boston"
   ]
  },
  {
   "cell_type": "code",
   "execution_count": 12,
   "metadata": {},
   "outputs": [],
   "source": [
    "# Bostonデータセットを用いる\n",
    "boston = load_boston()\n",
    "\n",
    "# 初期設定\n",
    "fold_number = 3  # \"k-分割交差検証の分割数\n",
    "fraction_of_validation_samples = 0.2 # 検証に使うデータ割合\n",
    "\n",
    "# 学習データをtrain/test分割\n",
    "X_train_b, X_test_b, y_train_b, y_test_b = train_test_split(boston.data,\n",
    "                                                            boston.target,\n",
    "                                                            random_state=0)\n",
    "\n",
    "# スケーリング\n",
    "scaler_r = StandardScaler()\n",
    "X_train_b_scaled = scaler_r.fit_transform(X_train_b)\n",
    "X_test_b_scaled = scaler_r.transform(X_test_b)\n",
    "\n",
    "# 検証用\n",
    "X_train_b_tmp, X_valid_b, y_train_b_tmp, y_valid_b = train_test_split(X_train_b_scaled,\n",
    "                                                                      y_train_b,\n",
    "                                                                      test_size=fraction_of_validation_samples,\n",
    "                                                                      random_state=0)"
   ]
  },
  {
   "cell_type": "code",
   "execution_count": null,
   "metadata": {},
   "outputs": [],
   "source": [
    "# scikit-learnの勾配ブースティング\n",
    "t1 = time.time()\n",
    "\n",
    "gbr = GBR(n_estimators=1000, \n",
    "          validation_fraction=fraction_of_validation_samples,\n",
    "          n_iter_no_change=100)\n",
    "gbr.fit(X_train_b_scaled, y_train_b)\n",
    "best_n_estimators_in_cv = len(gbr.estimators_)\n",
    "\n",
    "def objective(trial):\n",
    "    param = {\n",
    "        'learning_rate': trial.suggest_loguniform('learning_rate', 0.01, 1),\n",
    "        'max_depth': trial.suggest_int('max_depth', 1, 9),\n",
    "        'min_samples_leaf': trial.suggest_int('min_samples_leaf', 3, 20),\n",
    "        'max_features': trial.suggest_loguniform('max_features', 0.1, 1.0)\n",
    "    }\n",
    "\n",
    "    gbr = GBR(**param, n_estimators=best_n_estimators_in_cv)\n",
    "    estimated_y_in_cv = model_selection.cross_val_predict(gbr, X_train_b_scaled, y_train_b, cv=fold_number)\n",
    "    r2 = metrics.r2_score(y_train_b, estimated_y_in_cv)\n",
    "    return 1.0 - r2\n",
    "\n",
    "study = optuna.create_study()\n",
    "study.optimize(objective, n_trials=100)\n",
    "\n",
    "gbr = GBR(**study.best_params, \n",
    "          n_estimators=1000,   \n",
    "          validation_fraction=fraction_of_validation_samples, \n",
    "          n_iter_no_change=100)\n",
    "gbr.fit(X_train_b_scaled, y_train_b)\n",
    "best_n_estimators = len(gbr.estimators_)\n",
    "\n",
    "gbr = GBR(**study.best_params, n_estimators=best_n_estimators)\n",
    "gbr.fit(X_train_b_scaled, y_train_b)\n",
    "\n",
    "t2 = time.time()"
   ]
  },
  {
   "cell_type": "code",
   "execution_count": 14,
   "metadata": {},
   "outputs": [
    {
     "name": "stdout",
     "output_type": "stream",
     "text": [
      "elapsed time: 34.502 sec\n",
      "\n"
     ]
    },
    {
     "data": {
      "image/png": "[encoded data removed]",
      "text/plain": [
       "<Figure size 288x288 with 1 Axes>"
      ]
     },
     "metadata": {
      "needs_background": "light"
     },
     "output_type": "display_data"
    },
    {
     "name": "stdout",
     "output_type": "stream",
     "text": [
      "  Training set score: 1.000\n"
     ]
    },
    {
     "data": {
      "image/png": "[encoded data removed]",
      "text/plain": [
       "<Figure size 288x288 with 1 Axes>"
      ]
     },
     "metadata": {
      "needs_background": "light"
     },
     "output_type": "display_data"
    },
    {
     "name": "stdout",
     "output_type": "stream",
     "text": [
      "  Test set score: 0.718\n"
     ]
    }
   ],
   "source": [
    "# scikit-learnの勾配ブースティングの結果\n",
    "print(\"elapsed time: {:.3f} sec\\n\".format(t2-t1))\n",
    "\n",
    "# trainデータ\n",
    "y_train_b_est = gbr.predict(X_train_b_scaled)\n",
    "\n",
    "plt.figure(figsize=figure.figaspect(1))\n",
    "plt.scatter(y_train_b, y_train_b_est)\n",
    "y_max = max( y_train_b.max(), y_train_b_est.max() )\n",
    "y_min = min( y_train_b.min(), y_train_b_est.min() )\n",
    "plt.plot([y_min - 0.05 * (y_max - y_min), y_max + 0.05 * (y_max - y_min)],\n",
    "         [y_min - 0.05 * (y_max - y_min), y_max + 0.05 * (y_max - y_min)], 'k-')\n",
    "plt.ylim(y_min - 0.05 * (y_max - y_min), y_max + 0.05 * (y_max - y_min))\n",
    "plt.xlim(y_min - 0.05 * (y_max - y_min), y_max + 0.05 * (y_max - y_min))\n",
    "plt.xlabel('Actual y')\n",
    "plt.ylabel('Estimated y')\n",
    "plt.show()\n",
    "print(\"  Training set score: {:.3f}\".format(gbr.score(X_train_b_scaled, y_train_b))) \n",
    "\n",
    "# testデータ\n",
    "y_test_b_pred = gbr.predict(X_test_b_scaled)\n",
    "\n",
    "plt.figure(figsize=figure.figaspect(1))\n",
    "plt.scatter(y_test_b, y_test_b_pred)\n",
    "y_max = max( y_test_b.max(), y_test_b_pred.max() )\n",
    "y_min = min( y_test_b.min(), y_test_b_pred.min() )\n",
    "plt.plot([y_min - 0.05 * (y_max - y_min), y_max + 0.05 * (y_max - y_min)],\n",
    "         [y_min - 0.05 * (y_max - y_min), y_max + 0.05 * (y_max - y_min)], 'k-')\n",
    "plt.ylim(y_min - 0.05 * (y_max - y_min), y_max + 0.05 * (y_max - y_min))\n",
    "plt.xlim(y_min - 0.05 * (y_max - y_min), y_max + 0.05 * (y_max - y_min))\n",
    "plt.xlabel('Actual y')\n",
    "plt.ylabel('Predicted y')\n",
    "plt.show()\n",
    "print(\"  Test set score: {:.3f}\".format(gbr.score(X_test_b_scaled, y_test_b)))"
   ]
  },
  {
   "cell_type": "code",
   "execution_count": null,
   "metadata": {},
   "outputs": [],
   "source": [
    "# XGBoost\n",
    "t1 = time.time()\n",
    "\n",
    "xgbr = XGBR(n_estimators=1000)\n",
    "xgbr.fit(X_train_b_tmp, \n",
    "         y_train_b_tmp,\n",
    "         eval_set=[(X_valid_b, y_valid_b.reshape([len(y_valid_b), 1]))],\n",
    "         eval_metric='rmse', \n",
    "         early_stopping_rounds=100)\n",
    "best_n_estimators_in_cv = xgbr.best_iteration\n",
    "\n",
    "def objective(trial):\n",
    "    param = {\n",
    "        'verbosity': 0,\n",
    "        'objective': 'reg:squarederror',\n",
    "        'booster': trial.suggest_categorical('booster', ['gbtree', 'gblinear', 'dart']),\n",
    "        'lambda': trial.suggest_loguniform('lambda', 1e-8, 1.0),\n",
    "        'alpha': trial.suggest_loguniform('alpha', 1e-8, 1.0)\n",
    "    }\n",
    "\n",
    "    if param['booster'] == 'gbtree' or param['booster'] == 'dart':\n",
    "        param['max_depth'] = trial.suggest_int('max_depth', 1, 9)\n",
    "        param['eta'] = trial.suggest_loguniform('eta', 1e-8, 1.0)\n",
    "        param['gamma'] = trial.suggest_loguniform('gamma', 1e-8, 1.0)\n",
    "        param['grow_policy'] = trial.suggest_categorical('grow_policy', ['depthwise', 'lossguide'])\n",
    "    if param['booster'] == 'dart':\n",
    "        param['sample_type'] = trial.suggest_categorical('sample_type', ['uniform', 'weighted'])\n",
    "        param['normalize_type'] = trial.suggest_categorical('normalize_type', ['tree', 'forest'])\n",
    "        param['rate_drop'] = trial.suggest_loguniform('rate_drop', 1e-8, 1.0)\n",
    "        param['skip_drop'] = trial.suggest_loguniform('skip_drop', 1e-8, 1.0)\n",
    "\n",
    "    xgbr = XGBR(**param, n_estimators=best_n_estimators_in_cv)\n",
    "    estimated_y_in_cv = model_selection.cross_val_predict(xgbr, X_train_b_scaled, y_train_b, cv=fold_number)\n",
    "    r2 = metrics.r2_score(y_train_b, estimated_y_in_cv)\n",
    "    return 1.0 - r2\n",
    "\n",
    "study = optuna.create_study()\n",
    "study.optimize(objective, n_trials=100)\n",
    "\n",
    "xgbr = XGBR(**study.best_params, n_estimators=1000)\n",
    "xgbr.fit(X_train_b_tmp, \n",
    "         y_train_b_tmp,\n",
    "         eval_set=[(X_valid_b, y_valid_b.reshape([len(y_valid_b), 1]))],\n",
    "         eval_metric='rmse', \n",
    "         early_stopping_rounds=100)\n",
    "best_n_estimators = xgbr.best_iteration\n",
    "\n",
    "xgbr = XGBR(**study.best_params, n_estimators=best_n_estimators)\n",
    "xgbr.fit(X_train_b_scaled, y_train_b)\n",
    "\n",
    "# trainデータ\n",
    "y_train_b_est = xgbr.predict(X_train_b_scaled)\n",
    "\n",
    "plt.figure(figsize=figure.figaspect(1))\n",
    "plt.scatter(y_train_b, y_train_b_est)\n",
    "y_max = max( y_train_b.max(), y_train_b_est.max() )\n",
    "y_min = min( y_train_b.min(), y_train_b_est.min() )\n",
    "plt.plot([y_min - 0.05 * (y_max - y_min), y_max + 0.05 * (y_max - y_min)],\n",
    "         [y_min - 0.05 * (y_max - y_min), y_max + 0.05 * (y_max - y_min)], 'k-')\n",
    "plt.ylim(y_min - 0.05 * (y_max - y_min), y_max + 0.05 * (y_max - y_min))\n",
    "plt.xlim(y_min - 0.05 * (y_max - y_min), y_max + 0.05 * (y_max - y_min))\n",
    "plt.xlabel('Actual y')\n",
    "plt.ylabel('Estimated y')\n",
    "plt.show()\n",
    "print(\"  Training set score: {:.3f}\".format(xgbr.score(X_train_b_scaled, y_train_b))) \n",
    "\n",
    "# testデータ\n",
    "y_test_b_pred = xgbr.predict(X_test_b_scaled)\n",
    "\n",
    "plt.figure(figsize=figure.figaspect(1))\n",
    "plt.scatter(y_test_b, y_test_b_pred)\n",
    "y_max = max( y_test_b.max(), y_test_b_pred.max() )\n",
    "y_min = min( y_test_b.min(), y_test_b_pred.min() )\n",
    "plt.plot([y_min - 0.05 * (y_max - y_min), y_max + 0.05 * (y_max - y_min)],\n",
    "         [y_min - 0.05 * (y_max - y_min), y_max + 0.05 * (y_max - y_min)], 'k-')\n",
    "plt.ylim(y_min - 0.05 * (y_max - y_min), y_max + 0.05 * (y_max - y_min))\n",
    "plt.xlim(y_min - 0.05 * (y_max - y_min), y_max + 0.05 * (y_max - y_min))\n",
    "plt.xlabel('Actual y')\n",
    "plt.ylabel('Predicted y')\n",
    "plt.show()\n",
    "print(\"  Test set score: {:.3f}\".format(xgbr.score(X_test_b_scaled, y_test_b)))\n",
    "\n",
    "t2 = time.time()"
   ]
  },
  {
   "cell_type": "code",
   "execution_count": 16,
   "metadata": {},
   "outputs": [
    {
     "name": "stdout",
     "output_type": "stream",
     "text": [
      "elapsed time: 13.395 sec\n",
      "\n"
     ]
    },
    {
     "data": {
      "image/png": "[encoded data removed]",
      "text/plain": [
       "<Figure size 288x288 with 1 Axes>"
      ]
     },
     "metadata": {
      "needs_background": "light"
     },
     "output_type": "display_data"
    },
    {
     "name": "stdout",
     "output_type": "stream",
     "text": [
      "  Training set score: 1.000\n"
     ]
    },
    {
     "data": {
      "image/png": "[encoded data removed]",
      "text/plain": [
       "<Figure size 288x288 with 1 Axes>"
      ]
     },
     "metadata": {
      "needs_background": "light"
     },
     "output_type": "display_data"
    },
    {
     "name": "stdout",
     "output_type": "stream",
     "text": [
      "  Test set score: 0.718\n"
     ]
    }
   ],
   "source": [
    "# XGBoostの結果\n",
    "print(\"elapsed time: {:.3f} sec\\n\".format(t2-t1))\n",
    "\n",
    "# trainデータ\n",
    "y_train_b_est = gbr.predict(X_train_b_scaled)\n",
    "\n",
    "plt.figure(figsize=figure.figaspect(1))\n",
    "plt.scatter(y_train_b, y_train_b_est)\n",
    "y_max = max( y_train_b.max(), y_train_b_est.max() )\n",
    "y_min = min( y_train_b.min(), y_train_b_est.min() )\n",
    "plt.plot([y_min - 0.05 * (y_max - y_min), y_max + 0.05 * (y_max - y_min)],\n",
    "         [y_min - 0.05 * (y_max - y_min), y_max + 0.05 * (y_max - y_min)], 'k-')\n",
    "plt.ylim(y_min - 0.05 * (y_max - y_min), y_max + 0.05 * (y_max - y_min))\n",
    "plt.xlim(y_min - 0.05 * (y_max - y_min), y_max + 0.05 * (y_max - y_min))\n",
    "plt.xlabel('Actual y')\n",
    "plt.ylabel('Estimated y')\n",
    "plt.show()\n",
    "print(\"  Training set score: {:.3f}\".format(gbr.score(X_train_b_scaled, y_train_b))) \n",
    "\n",
    "# testデータ\n",
    "y_test_b_pred = gbr.predict(X_test_b_scaled)\n",
    "\n",
    "plt.figure(figsize=figure.figaspect(1))\n",
    "plt.scatter(y_test_b, y_test_b_pred)\n",
    "y_max = max( y_test_b.max(), y_test_b_pred.max() )\n",
    "y_min = min( y_test_b.min(), y_test_b_pred.min() )\n",
    "plt.plot([y_min - 0.05 * (y_max - y_min), y_max + 0.05 * (y_max - y_min)],\n",
    "         [y_min - 0.05 * (y_max - y_min), y_max + 0.05 * (y_max - y_min)], 'k-')\n",
    "plt.ylim(y_min - 0.05 * (y_max - y_min), y_max + 0.05 * (y_max - y_min))\n",
    "plt.xlim(y_min - 0.05 * (y_max - y_min), y_max + 0.05 * (y_max - y_min))\n",
    "plt.xlabel('Actual y')\n",
    "plt.ylabel('Predicted y')\n",
    "plt.show()\n",
    "print(\"  Test set score: {:.3f}\".format(gbr.score(X_test_b_scaled, y_test_b)))"
   ]
  },
  {
   "cell_type": "code",
   "execution_count": null,
   "metadata": {},
   "outputs": [],
   "source": [
    "# LightGBM\n",
    "t1 = time.time()\n",
    "\n",
    "lgbr = LGBR(n_estimators=1000)\n",
    "lgbr.fit(X_train_b_tmp, \n",
    "         y_train_b_tmp,\n",
    "         eval_set=(X_valid_b, y_valid_b),\n",
    "         eval_metric='l2', \n",
    "         early_stopping_rounds=100)\n",
    "best_n_estimators_in_cv = lgbr.best_iteration_\n",
    "\n",
    "def objective(trial):\n",
    "    param = {\n",
    "        'verbosity': -1,\n",
    "        'boosting_type': trial.suggest_categorical('boosting', ['gbdt', 'dart', 'goss']),\n",
    "        'num_leaves': trial.suggest_int('num_leaves', 10, 1000),\n",
    "        'learning_rate': trial.suggest_loguniform('learning_rate', 1e-8, 1.0)\n",
    "    }\n",
    "\n",
    "    if param['boosting_type'] == 'dart':\n",
    "        param['drop_rate'] = trial.suggest_loguniform('drop_rate', 1e-8, 1.0)\n",
    "        param['skip_drop'] = trial.suggest_loguniform('skip_drop', 1e-8, 1.0)\n",
    "    if param['boosting_type'] == 'goss':\n",
    "        param['top_rate'] = trial.suggest_uniform('top_rate', 0.0, 1.0)\n",
    "        param['other_rate'] = trial.suggest_uniform('other_rate', 0.0, 1.0 - param['top_rate'])\n",
    "\n",
    "    lgbr = LGBR(**param, n_estimators=best_n_estimators_in_cv)\n",
    "    estimated_y_in_cv = model_selection.cross_val_predict(lgbr, X_train_b_scaled, y_train_b, cv=fold_number)\n",
    "    r2 = metrics.r2_score(y_train_b, estimated_y_in_cv)\n",
    "    return 1.0 - r2\n",
    "\n",
    "study = optuna.create_study()\n",
    "study.optimize(objective, n_trials=100)\n",
    "\n",
    "lgbr = LGBR(**study.best_params, n_estimators=1000)\n",
    "lgbr.fit(X_train_b_tmp, \n",
    "         y_train_b_tmp,\n",
    "         eval_set=(X_valid_b, y_valid_b),\n",
    "         eval_metric='l2', \n",
    "         early_stopping_rounds=100)\n",
    "best_n_estimators = lgbr.best_iteration_\n",
    "\n",
    "lgbr = LGBR(**study.best_params, n_estimators=best_n_estimators)\n",
    "lgbr.fit(X_train_b_scaled, y_train_b)\n",
    "\n",
    "# trainデータ\n",
    "y_train_b_est = lgbr.predict(X_train_b_scaled)\n",
    "\n",
    "plt.figure(figsize=figure.figaspect(1))\n",
    "plt.scatter(y_train_b, y_train_b_est)\n",
    "y_max = max( y_train_b.max(), y_train_b_est.max() )\n",
    "y_min = min( y_train_b.min(), y_train_b_est.min() )\n",
    "plt.plot([y_min - 0.05 * (y_max - y_min), y_max + 0.05 * (y_max - y_min)],\n",
    "         [y_min - 0.05 * (y_max - y_min), y_max + 0.05 * (y_max - y_min)], 'k-')\n",
    "plt.ylim(y_min - 0.05 * (y_max - y_min), y_max + 0.05 * (y_max - y_min))\n",
    "plt.xlim(y_min - 0.05 * (y_max - y_min), y_max + 0.05 * (y_max - y_min))\n",
    "plt.xlabel('Actual y')\n",
    "plt.ylabel('Estimated y')\n",
    "plt.show()\n",
    "print(\"  Training set score: {:.3f}\".format(lgbr.score(X_train_b_scaled, y_train_b))) \n",
    "\n",
    "# testデータ\n",
    "y_test_b_pred = lgbr.predict(X_test_b_scaled)\n",
    "\n",
    "plt.figure(figsize=figure.figaspect(1))\n",
    "plt.scatter(y_test_b, y_test_b_pred)\n",
    "y_max = max( y_test_b.max(), y_test_b_pred.max() )\n",
    "y_min = min( y_test_b.min(), y_test_b_pred.min() )\n",
    "plt.plot([y_min - 0.05 * (y_max - y_min), y_max + 0.05 * (y_max - y_min)],\n",
    "         [y_min - 0.05 * (y_max - y_min), y_max + 0.05 * (y_max - y_min)], 'k-')\n",
    "plt.ylim(y_min - 0.05 * (y_max - y_min), y_max + 0.05 * (y_max - y_min))\n",
    "plt.xlim(y_min - 0.05 * (y_max - y_min), y_max + 0.05 * (y_max - y_min))\n",
    "plt.xlabel('Actual y')\n",
    "plt.ylabel('Predicted y')\n",
    "plt.show()\n",
    "print(\"  Test set score: {:.3f}\".format(lgbr.score(X_test_b_scaled, y_test_b)))\n",
    "\n",
    "t2 = time.time()"
   ]
  },
  {
   "cell_type": "code",
   "execution_count": 18,
   "metadata": {},
   "outputs": [
    {
     "name": "stdout",
     "output_type": "stream",
     "text": [
      "elapsed time: 46.701 sec\n",
      "\n"
     ]
    },
    {
     "data": {
      "image/png": "[encoded data removed]",
      "text/plain": [
       "<Figure size 288x288 with 1 Axes>"
      ]
     },
     "metadata": {
      "needs_background": "light"
     },
     "output_type": "display_data"
    },
    {
     "name": "stdout",
     "output_type": "stream",
     "text": [
      "  Training set score: 1.000\n"
     ]
    },
    {
     "data": {
      "image/png": "[encoded data removed]",
      "text/plain": [
       "<Figure size 288x288 with 1 Axes>"
      ]
     },
     "metadata": {
      "needs_background": "light"
     },
     "output_type": "display_data"
    },
    {
     "name": "stdout",
     "output_type": "stream",
     "text": [
      "  Test set score: 0.718\n"
     ]
    }
   ],
   "source": [
    "# LightGBMの結果\n",
    "print(\"elapsed time: {:.3f} sec\\n\".format(t2-t1))\n",
    "\n",
    "# trainデータ\n",
    "y_train_b_est = gbr.predict(X_train_b_scaled)\n",
    "\n",
    "plt.figure(figsize=figure.figaspect(1))\n",
    "plt.scatter(y_train_b, y_train_b_est)\n",
    "y_max = max( y_train_b.max(), y_train_b_est.max() )\n",
    "y_min = min( y_train_b.min(), y_train_b_est.min() )\n",
    "plt.plot([y_min - 0.05 * (y_max - y_min), y_max + 0.05 * (y_max - y_min)],\n",
    "         [y_min - 0.05 * (y_max - y_min), y_max + 0.05 * (y_max - y_min)], 'k-')\n",
    "plt.ylim(y_min - 0.05 * (y_max - y_min), y_max + 0.05 * (y_max - y_min))\n",
    "plt.xlim(y_min - 0.05 * (y_max - y_min), y_max + 0.05 * (y_max - y_min))\n",
    "plt.xlabel('Actual y')\n",
    "plt.ylabel('Estimated y')\n",
    "plt.show()\n",
    "print(\"  Training set score: {:.3f}\".format(gbr.score(X_train_b_scaled, y_train_b))) \n",
    "\n",
    "# testデータ\n",
    "y_test_b_pred = gbr.predict(X_test_b_scaled)\n",
    "\n",
    "plt.figure(figsize=figure.figaspect(1))\n",
    "plt.scatter(y_test_b, y_test_b_pred)\n",
    "y_max = max( y_test_b.max(), y_test_b_pred.max() )\n",
    "y_min = min( y_test_b.min(), y_test_b_pred.min() )\n",
    "plt.plot([y_min - 0.05 * (y_max - y_min), y_max + 0.05 * (y_max - y_min)],\n",
    "         [y_min - 0.05 * (y_max - y_min), y_max + 0.05 * (y_max - y_min)], 'k-')\n",
    "plt.ylim(y_min - 0.05 * (y_max - y_min), y_max + 0.05 * (y_max - y_min))\n",
    "plt.xlim(y_min - 0.05 * (y_max - y_min), y_max + 0.05 * (y_max - y_min))\n",
    "plt.xlabel('Actual y')\n",
    "plt.ylabel('Predicted y')\n",
    "plt.show()\n",
    "print(\"  Test set score: {:.3f}\".format(gbr.score(X_test_b_scaled, y_test_b)))"
   ]
  }
 ],
 "metadata": {
  "kernelspec": {
   "display_name": "mds",
   "language": "python",
   "name": "mds"
  },
  "language_info": {
   "codemirror_mode": {
    "name": "ipython",
    "version": 3
   },
   "file_extension": ".py",
   "mimetype": "text/x-python",
   "name": "python",
   "nbconvert_exporter": "python",
   "pygments_lexer": "ipython3",
   "version": "3.7.7"
  }
 },
 "nbformat": 4,
 "nbformat_minor": 2
}
